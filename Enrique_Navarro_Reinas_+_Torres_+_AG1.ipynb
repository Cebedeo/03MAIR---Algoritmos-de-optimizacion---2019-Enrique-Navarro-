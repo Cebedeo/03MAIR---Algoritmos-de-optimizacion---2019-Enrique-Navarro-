{
  "nbformat": 4,
  "nbformat_minor": 0,
  "metadata": {
    "colab": {
      "name": "Copia de Copia de Enrique Navarro - Reinas + Torres + AG1",
      "provenance": [],
      "collapsed_sections": [
        "NMZOCcmJZNu2"
      ],
      "include_colab_link": true
    },
    "kernelspec": {
      "name": "python3",
      "display_name": "Python 3"
    }
  },
  "cells": [
    {
      "cell_type": "markdown",
      "metadata": {
        "id": "view-in-github",
        "colab_type": "text"
      },
      "source": [
        "<a href=\"https://colab.research.google.com/github/Cebedeo/03MAIR---Algoritmos-de-optimizacion---2019-Enrique-Navarro-/blob/master/Enrique_Navarro_Reinas_%2B_Torres_%2B_AG1.ipynb\" target=\"_parent\"><img src=\"https://colab.research.google.com/assets/colab-badge.svg\" alt=\"Open In Colab\"/></a>"
      ]
    },
    {
      "cell_type": "markdown",
      "metadata": {
        "id": "mr27_ntfZ2lH",
        "colab_type": "text"
      },
      "source": [
        "### Actividad guiada 1 de Enrique Navarro\n",
        "\n",
        "Disponible en CO en este enlace: https://colab.research.google.com/drive/1c-eCouO62TrZbrEmIlY9mkjtNlT_o0U7\n",
        "\n",
        "\n",
        "#### Un problema real\n",
        "\n",
        "Vamos a resolver el problema de las N reinas para N=8"
      ]
    },
    {
      "cell_type": "code",
      "metadata": {
        "id": "571KETyLZZdK",
        "colab_type": "code",
        "outputId": "13d447d7-14d2-4b60-fbac-931ad87d4392",
        "colab": {
          "base_uri": "https://localhost:8080/",
          "height": 1000
        }
      },
      "source": [
        "import numpy as np\n",
        "\n",
        "def es_prometedora(solucion, etapa):\n",
        "  for i in range(etapa+1):\n",
        "    if solucion.count(solucion[i]) > 1: return False\n",
        "  \n",
        "    for j in range(i+1, etapa+1):\n",
        "      if abs(i-j) == abs(solucion[i]-solucion[j]): return False\n",
        "\n",
        "  return True\n",
        "\n",
        "def reinas(N, solucion, etapa):\n",
        "  for i in range(1,N+1):\n",
        "    solucion[etapa]=i\n",
        "    if es_prometedora(solucion,etapa):\n",
        "      if etapa == N-1:\n",
        "        print(\"\\nLa solución es:\",solucion)\n",
        "      else:\n",
        "        reinas(N,solucion,etapa+1)\n",
        "    else: \n",
        "      None\n",
        "    \n",
        "    solucion[etapa]=0\n",
        "\n",
        "def resolver_reinas(N):\n",
        "    solucion = [0] * N\n",
        "    reinas(N,solucion,0)\n",
        "    \n",
        "res = resolver_reinas(8)\n"
      ],
      "execution_count": 0,
      "outputs": [
        {
          "output_type": "stream",
          "text": [
            "\n",
            "La solución es: [1, 5, 8, 6, 3, 7, 2, 4]\n",
            "\n",
            "La solución es: [1, 6, 8, 3, 7, 4, 2, 5]\n",
            "\n",
            "La solución es: [1, 7, 4, 6, 8, 2, 5, 3]\n",
            "\n",
            "La solución es: [1, 7, 5, 8, 2, 4, 6, 3]\n",
            "\n",
            "La solución es: [2, 4, 6, 8, 3, 1, 7, 5]\n",
            "\n",
            "La solución es: [2, 5, 7, 1, 3, 8, 6, 4]\n",
            "\n",
            "La solución es: [2, 5, 7, 4, 1, 8, 6, 3]\n",
            "\n",
            "La solución es: [2, 6, 1, 7, 4, 8, 3, 5]\n",
            "\n",
            "La solución es: [2, 6, 8, 3, 1, 4, 7, 5]\n",
            "\n",
            "La solución es: [2, 7, 3, 6, 8, 5, 1, 4]\n",
            "\n",
            "La solución es: [2, 7, 5, 8, 1, 4, 6, 3]\n",
            "\n",
            "La solución es: [2, 8, 6, 1, 3, 5, 7, 4]\n",
            "\n",
            "La solución es: [3, 1, 7, 5, 8, 2, 4, 6]\n",
            "\n",
            "La solución es: [3, 5, 2, 8, 1, 7, 4, 6]\n",
            "\n",
            "La solución es: [3, 5, 2, 8, 6, 4, 7, 1]\n",
            "\n",
            "La solución es: [3, 5, 7, 1, 4, 2, 8, 6]\n",
            "\n",
            "La solución es: [3, 5, 8, 4, 1, 7, 2, 6]\n",
            "\n",
            "La solución es: [3, 6, 2, 5, 8, 1, 7, 4]\n",
            "\n",
            "La solución es: [3, 6, 2, 7, 1, 4, 8, 5]\n",
            "\n",
            "La solución es: [3, 6, 2, 7, 5, 1, 8, 4]\n",
            "\n",
            "La solución es: [3, 6, 4, 1, 8, 5, 7, 2]\n",
            "\n",
            "La solución es: [3, 6, 4, 2, 8, 5, 7, 1]\n",
            "\n",
            "La solución es: [3, 6, 8, 1, 4, 7, 5, 2]\n",
            "\n",
            "La solución es: [3, 6, 8, 1, 5, 7, 2, 4]\n",
            "\n",
            "La solución es: [3, 6, 8, 2, 4, 1, 7, 5]\n",
            "\n",
            "La solución es: [3, 7, 2, 8, 5, 1, 4, 6]\n",
            "\n",
            "La solución es: [3, 7, 2, 8, 6, 4, 1, 5]\n",
            "\n",
            "La solución es: [3, 8, 4, 7, 1, 6, 2, 5]\n",
            "\n",
            "La solución es: [4, 1, 5, 8, 2, 7, 3, 6]\n",
            "\n",
            "La solución es: [4, 1, 5, 8, 6, 3, 7, 2]\n",
            "\n",
            "La solución es: [4, 2, 5, 8, 6, 1, 3, 7]\n",
            "\n",
            "La solución es: [4, 2, 7, 3, 6, 8, 1, 5]\n",
            "\n",
            "La solución es: [4, 2, 7, 3, 6, 8, 5, 1]\n",
            "\n",
            "La solución es: [4, 2, 7, 5, 1, 8, 6, 3]\n",
            "\n",
            "La solución es: [4, 2, 8, 5, 7, 1, 3, 6]\n",
            "\n",
            "La solución es: [4, 2, 8, 6, 1, 3, 5, 7]\n",
            "\n",
            "La solución es: [4, 6, 1, 5, 2, 8, 3, 7]\n",
            "\n",
            "La solución es: [4, 6, 8, 2, 7, 1, 3, 5]\n",
            "\n",
            "La solución es: [4, 6, 8, 3, 1, 7, 5, 2]\n",
            "\n",
            "La solución es: [4, 7, 1, 8, 5, 2, 6, 3]\n",
            "\n",
            "La solución es: [4, 7, 3, 8, 2, 5, 1, 6]\n",
            "\n",
            "La solución es: [4, 7, 5, 2, 6, 1, 3, 8]\n",
            "\n",
            "La solución es: [4, 7, 5, 3, 1, 6, 8, 2]\n",
            "\n",
            "La solución es: [4, 8, 1, 3, 6, 2, 7, 5]\n",
            "\n",
            "La solución es: [4, 8, 1, 5, 7, 2, 6, 3]\n",
            "\n",
            "La solución es: [4, 8, 5, 3, 1, 7, 2, 6]\n",
            "\n",
            "La solución es: [5, 1, 4, 6, 8, 2, 7, 3]\n",
            "\n",
            "La solución es: [5, 1, 8, 4, 2, 7, 3, 6]\n",
            "\n",
            "La solución es: [5, 1, 8, 6, 3, 7, 2, 4]\n",
            "\n",
            "La solución es: [5, 2, 4, 6, 8, 3, 1, 7]\n",
            "\n",
            "La solución es: [5, 2, 4, 7, 3, 8, 6, 1]\n",
            "\n",
            "La solución es: [5, 2, 6, 1, 7, 4, 8, 3]\n",
            "\n",
            "La solución es: [5, 2, 8, 1, 4, 7, 3, 6]\n",
            "\n",
            "La solución es: [5, 3, 1, 6, 8, 2, 4, 7]\n",
            "\n",
            "La solución es: [5, 3, 1, 7, 2, 8, 6, 4]\n",
            "\n",
            "La solución es: [5, 3, 8, 4, 7, 1, 6, 2]\n",
            "\n",
            "La solución es: [5, 7, 1, 3, 8, 6, 4, 2]\n",
            "\n",
            "La solución es: [5, 7, 1, 4, 2, 8, 6, 3]\n",
            "\n",
            "La solución es: [5, 7, 2, 4, 8, 1, 3, 6]\n",
            "\n",
            "La solución es: [5, 7, 2, 6, 3, 1, 4, 8]\n",
            "\n",
            "La solución es: [5, 7, 2, 6, 3, 1, 8, 4]\n",
            "\n",
            "La solución es: [5, 7, 4, 1, 3, 8, 6, 2]\n",
            "\n",
            "La solución es: [5, 8, 4, 1, 3, 6, 2, 7]\n",
            "\n",
            "La solución es: [5, 8, 4, 1, 7, 2, 6, 3]\n",
            "\n",
            "La solución es: [6, 1, 5, 2, 8, 3, 7, 4]\n",
            "\n",
            "La solución es: [6, 2, 7, 1, 3, 5, 8, 4]\n",
            "\n",
            "La solución es: [6, 2, 7, 1, 4, 8, 5, 3]\n",
            "\n",
            "La solución es: [6, 3, 1, 7, 5, 8, 2, 4]\n",
            "\n",
            "La solución es: [6, 3, 1, 8, 4, 2, 7, 5]\n",
            "\n",
            "La solución es: [6, 3, 1, 8, 5, 2, 4, 7]\n",
            "\n",
            "La solución es: [6, 3, 5, 7, 1, 4, 2, 8]\n",
            "\n",
            "La solución es: [6, 3, 5, 8, 1, 4, 2, 7]\n",
            "\n",
            "La solución es: [6, 3, 7, 2, 4, 8, 1, 5]\n",
            "\n",
            "La solución es: [6, 3, 7, 2, 8, 5, 1, 4]\n",
            "\n",
            "La solución es: [6, 3, 7, 4, 1, 8, 2, 5]\n",
            "\n",
            "La solución es: [6, 4, 1, 5, 8, 2, 7, 3]\n",
            "\n",
            "La solución es: [6, 4, 2, 8, 5, 7, 1, 3]\n",
            "\n",
            "La solución es: [6, 4, 7, 1, 3, 5, 2, 8]\n",
            "\n",
            "La solución es: [6, 4, 7, 1, 8, 2, 5, 3]\n",
            "\n",
            "La solución es: [6, 8, 2, 4, 1, 7, 5, 3]\n",
            "\n",
            "La solución es: [7, 1, 3, 8, 6, 4, 2, 5]\n",
            "\n",
            "La solución es: [7, 2, 4, 1, 8, 5, 3, 6]\n",
            "\n",
            "La solución es: [7, 2, 6, 3, 1, 4, 8, 5]\n",
            "\n",
            "La solución es: [7, 3, 1, 6, 8, 5, 2, 4]\n",
            "\n",
            "La solución es: [7, 3, 8, 2, 5, 1, 6, 4]\n",
            "\n",
            "La solución es: [7, 4, 2, 5, 8, 1, 3, 6]\n",
            "\n",
            "La solución es: [7, 4, 2, 8, 6, 1, 3, 5]\n",
            "\n",
            "La solución es: [7, 5, 3, 1, 6, 8, 2, 4]\n",
            "\n",
            "La solución es: [8, 2, 4, 1, 7, 5, 3, 6]\n",
            "\n",
            "La solución es: [8, 2, 5, 3, 1, 7, 4, 6]\n",
            "\n",
            "La solución es: [8, 3, 1, 6, 2, 5, 7, 4]\n",
            "\n",
            "La solución es: [8, 4, 1, 3, 6, 2, 7, 5]\n"
          ],
          "name": "stdout"
        }
      ]
    },
    {
      "cell_type": "markdown",
      "metadata": {
        "id": "NMZOCcmJZNu2",
        "colab_type": "text"
      },
      "source": [
        "#### Cuestión de altura\n",
        "\n",
        "Vamos a obtener una solución paso a paso del problema de las torres de Hanoi:\n"
      ]
    },
    {
      "cell_type": "code",
      "metadata": {
        "id": "l2UKqwdoqLBz",
        "colab_type": "code",
        "outputId": "330746cb-2a97-4f62-8d93-73c33371a70f",
        "colab": {
          "base_uri": "https://localhost:8080/",
          "height": 293
        }
      },
      "source": [
        "def torres(N, desde, hasta):\n",
        "  if N==1:\n",
        "    print(\"Mover la ficha desde\",desde,\"hasta\",hasta)\n",
        "  else:\n",
        "    torres(N-1, desde,6-desde-hasta)\n",
        "    print(\"Mover la ficha desde\",desde,\"hasta\",hasta)\n",
        "    torres(N-1, 6-desde-hasta, hasta)\n",
        "\n",
        "torres(4,1,3)\n"
      ],
      "execution_count": 0,
      "outputs": [
        {
          "output_type": "stream",
          "text": [
            "Mover la ficha desde 1 hasta 2\n",
            "Mover la ficha desde 1 hasta 3\n",
            "Mover la ficha desde 2 hasta 3\n",
            "Mover la ficha desde 1 hasta 2\n",
            "Mover la ficha desde 3 hasta 1\n",
            "Mover la ficha desde 3 hasta 2\n",
            "Mover la ficha desde 1 hasta 2\n",
            "Mover la ficha desde 1 hasta 3\n",
            "Mover la ficha desde 2 hasta 3\n",
            "Mover la ficha desde 2 hasta 1\n",
            "Mover la ficha desde 3 hasta 1\n",
            "Mover la ficha desde 2 hasta 3\n",
            "Mover la ficha desde 1 hasta 2\n",
            "Mover la ficha desde 1 hasta 3\n",
            "Mover la ficha desde 2 hasta 3\n"
          ],
          "name": "stdout"
        }
      ]
    },
    {
      "cell_type": "markdown",
      "metadata": {
        "id": "b1XLiGZQZxT9",
        "colab_type": "text"
      },
      "source": [
        "#### Distancias cortas\n",
        "\n",
        "Vamos a buscar los dos puntos más cercano en una lista de ellos.\n",
        "\n",
        "Empezamos con una lista (1D):"
      ]
    },
    {
      "cell_type": "code",
      "metadata": {
        "id": "jEqt0E1FZ96Y",
        "colab_type": "code",
        "outputId": "bcedf6a6-1b62-42e8-b32d-6d13faf4189b",
        "colab": {
          "base_uri": "https://localhost:8080/",
          "height": 35
        }
      },
      "source": [
        "import random\n",
        "import time\n",
        "import statistics\n",
        "\n",
        "### FUERZA BRUTA MEJORADO 1 ###\n",
        "def fuerza_bruta_1():\n",
        "  puntos = [0,0]\n",
        "  distancia = 999\n",
        "  for i in LISTA_1D:\n",
        "    for j in LISTA_1D:\n",
        "      if LISTA_1D.index(i) != LISTA_1D.index(j):\n",
        "        if abs(j-i) < distancia:\n",
        "          distancia = abs(j-i)\n",
        "          puntos = [i,j]\n",
        "          #print(\"Nuevo punto más cercano: \",LISTA_1D.index(i),\"(\",i,\") y \",LISTA_1D.index(j),\"(\",j,\"), que están a\",distancia)\n",
        "          res = [LISTA_1D.index(i),LISTA_1D.index(j),i,j]\n",
        "  return res\n",
        "\n",
        "valores = []\n",
        "for i in range(10):\n",
        "  LISTA_1D = [random.randrange(1,1000) for x in range(1000)]\n",
        "  start = time.time()\n",
        "  x = fuerza_bruta_1()\n",
        "  #print(\"En la ronda \",i,\" los puntos más cercanos han sido el\",x[0],\"(\",x[2],\") y el\",x[1],\"(\",x[3],\")\")\n",
        "  end = time.time()\n",
        "  valores.append(end-start)\n",
        "\n",
        "print(\"Tiempo medio de proceso: \",statistics.mean(valores))"
      ],
      "execution_count": 0,
      "outputs": [
        {
          "output_type": "stream",
          "text": [
            "Tiempo medio de proceso:  11.415664267539977\n"
          ],
          "name": "stdout"
        }
      ]
    },
    {
      "cell_type": "markdown",
      "metadata": {
        "id": "Wy6LU1q_dpl_",
        "colab_type": "text"
      },
      "source": [
        "Se observa que la complejidad es: \n",
        "\n",
        "(for i)-> $N$\n",
        "\n",
        "(for j) -> $N$\n",
        "\n",
        "(if (diferentes índices) -> $1$\n",
        "\n",
        "(if (majoramos la distancia) -> aproximadamente $2$ (dos asignaciones, en un 999/1000 de los casos, que son todos los que tienen índices diferentes)\n",
        "\n",
        "$N*N*1*2 = 2N^2$  Luego estamos hablando de una complejidad cuadrática.\n",
        "\n",
        "Una primera posible mejora sería detener el proceso cuando encontremos un primer resultado de distancia mínima:"
      ]
    },
    {
      "cell_type": "code",
      "metadata": {
        "colab_type": "code",
        "outputId": "45c8f62b-2bf7-42ab-8a48-cd31436480e4",
        "id": "pdcbhoPmfSLc",
        "colab": {
          "base_uri": "https://localhost:8080/",
          "height": 35
        }
      },
      "source": [
        "import random\n",
        "import time\n",
        "import statistics\n",
        "\n",
        "### FUERZA BRUTA MEJORADO 1 ###\n",
        "def fuerza_bruta_1():\n",
        "  puntos = [0,0]\n",
        "  distancia = 999\n",
        "  for i in LISTA_1D:\n",
        "    for j in LISTA_1D:\n",
        "      if LISTA_1D.index(i) != LISTA_1D.index(j):\n",
        "        if abs(j-i) < distancia:\n",
        "          distancia = abs(j-i)\n",
        "          puntos = [i,j]\n",
        "          #print(\"Nuevo punto más cercano: \",LISTA_1D.index(i),\"(\",i,\") y \",LISTA_1D.index(j),\"(\",j,\"), que están a\",distancia)\n",
        "      if distancia == 1:\n",
        "        return [LISTA_1D.index(i),LISTA_1D.index(j),i,j]\n",
        "\n",
        "valores = []\n",
        "for i in range(100):\n",
        "  LISTA_1D = [random.randrange(1,1000) for x in range(1000)]\n",
        "  start = time.time()\n",
        "  x = fuerza_bruta_1()\n",
        "  #print(\"En la ronda \",i,\" los puntos más cercanos han sido el\",x[0],\"(\",x[2],\") y el\",x[1],\"(\",x[3],\")\")\n",
        "  end = time.time()\n",
        "  valores.append(end-start)\n",
        "\n",
        "print(\"Tiempo medio de proceso: \",statistics.mean(valores))"
      ],
      "execution_count": 0,
      "outputs": [
        {
          "output_type": "stream",
          "text": [
            "Tiempo medio de proceso:  0.0025365757942199707\n"
          ],
          "name": "stdout"
        }
      ]
    },
    {
      "cell_type": "markdown",
      "metadata": {
        "id": "05aGDxYPf9Xw",
        "colab_type": "text"
      },
      "source": [
        ""
      ]
    },
    {
      "cell_type": "markdown",
      "metadata": {
        "colab_type": "text",
        "id": "1ypk3zA0gJqG"
      },
      "source": [
        "Se observa que la complejidad es: \n",
        "\n",
        "(for i)-> $N$ (peor caso), $1$(mejor caso y más frecuente)\n",
        "\n",
        "(for j) -> $N$ (peor caso), $1$(mejor caso, aunque no se puede estimar la distribución de bonanza de casos. Es decir, la probabilidad del mejor, el peor y cualquier caso intermedio es la misma al ser números aleatorios)\n",
        "\n",
        "(if (diferentes índices) -> $1$\n",
        "\n",
        "(if (majoramos la distancia) -> aproximadamente $2$ (dos asignaciones, en un 999/1000 de los casos, que son todos los que tienen índices diferentes)\n",
        "\n",
        "$\\approx1*N*1*2  \\approx2N$  Luego estamos hablando de una complejidad aproximadamente lineal y por lo tanto bastante aceptable.\n",
        "\n",
        "Probemos a hacer una ordenación previa de la lista de números:\n"
      ]
    },
    {
      "cell_type": "code",
      "metadata": {
        "colab_type": "code",
        "outputId": "0be87a48-1e7d-45e5-808b-a4aa9b1da2f9",
        "id": "8i7S9F5Qw28D",
        "colab": {
          "base_uri": "https://localhost:8080/",
          "height": 72
        }
      },
      "source": [
        "import random\n",
        "import time\n",
        "import statistics\n",
        "\n",
        "### FUERZA BRUTA MEJORADO 1 ###\n",
        "def fuerza_bruta_2():\n",
        "  puntos = [0,0]\n",
        "  distancia = 999\n",
        "  for i in LISTA_1D:\n",
        "    for j in LISTA_1D:\n",
        "      if LISTA_1D.index(i) != LISTA_1D.index(j):\n",
        "        if abs(j-i) < distancia:\n",
        "          distancia = abs(j-i)\n",
        "          puntos = [i,j]\n",
        "          #print(\"Nuevo punto más cercano: \",LISTA_1D.index(i),\"(\",i,\") y \",LISTA_1D.index(j),\"(\",j,\"), que están a\",distancia)\n",
        "      if distancia == 1:\n",
        "        return [LISTA_1D.index(i),LISTA_1D.index(j),i,j]\n",
        "\n",
        "valores = []\n",
        "ordenar = []\n",
        "for i in range(100):\n",
        "  LISTA_1D = [random.randrange(1,1000) for x in range(1000)]\n",
        "  start = time.time()\n",
        "  LISTA_1D.sort()\n",
        "  end = time.time()\n",
        "  #print(\"La ronda\",i,\"ha tardado\",end-start,\"segundos en ordenarse.\")\n",
        "  ordenar.append(end-start)\n",
        "  start = time.time()\n",
        "  x = fuerza_bruta_2()\n",
        "  #print(\"En la ronda \",i,\" los puntos más cercanos han sido el\",x[0],\"(\",x[2],\") y el\",x[1],\"(\",x[3],\")\")\n",
        "  end = time.time()\n",
        "  valores.append(end-start)\n",
        "\n",
        "print(\"Tiempo medio de ordenación: \",statistics.mean(ordenar))\n",
        "print(\"Tiempo medio de búsqueda: \",statistics.mean(valores))\n",
        "print(\"Tiempo medio de proceso: \",statistics.mean(valores)+statistics.mean(ordenar))"
      ],
      "execution_count": 0,
      "outputs": [
        {
          "output_type": "stream",
          "text": [
            "Tiempo medio de ordenación:  0.00017711162567138672\n",
            "Tiempo medio de búsqueda:  0.006333236694335938\n",
            "Tiempo medio de proceso:  0.0065103483200073245\n"
          ],
          "name": "stdout"
        }
      ]
    },
    {
      "cell_type": "markdown",
      "metadata": {
        "id": "hsYrEDUZhqoB",
        "colab_type": "text"
      },
      "source": [
        "Tras varias pruebas con 100 repeticiones, parece que el tiempo de proceso aumenta, a pesar de que el tiempo añadido por el proceso de ordenación es prácticamente irrelevante.\n",
        "\n",
        "Se concluye pues que su rendimiento no mejora si el vector está ordenado, aunque los resultados observados no se pueden asociar a la sobrecarga de la ordenación ni hay defensa teórica de los mismos, y por lo tanto considero que son debidos al azar y que un análisis más detallado (que no procede aquí) podría confirmar este resultado.\n",
        "\n",
        "Vamos pues a buscar una solución de tipo Divide y Vencerás:"
      ]
    },
    {
      "cell_type": "code",
      "metadata": {
        "id": "ofegBuWM49oH",
        "colab_type": "code",
        "outputId": "427ad0d5-2ec7-49ea-82d4-5f5e8a69f7e0",
        "colab": {
          "base_uri": "https://localhost:8080/",
          "height": 35
        }
      },
      "source": [
        "import random\n",
        "import math\n",
        "import time\n",
        "import statistics\n",
        "\n",
        "def divide_y_venceras(lista1, lista2=[]):\n",
        "  if lista2==[]: # fase de dividir\n",
        "    if len(lista1)==1: return lista1 # caso base\n",
        "    else:\n",
        "      corte = math.ceil(len(lista1)/2) \n",
        "      #print(\"Dividiendo:\",lista1,\"por\",corte)\n",
        "      return divide_y_venceras(divide_y_venceras(lista1[0:corte]),divide_y_venceras(lista1[corte:]))\n",
        "\n",
        "  else:  # fase de combinar\n",
        "    combinado = []\n",
        "    while len(lista1)>0 and len(lista2) > 0: # hasta vaciar las listas recibidas como parámetro\n",
        "      if lista1[0] < lista2[0]: # añado el elemento menor a la lista resultado\n",
        "        combinado.append(lista1.pop(0))\n",
        "      else: \n",
        "        combinado.append(lista2.pop(0))\n",
        "    while len(lista1)>0: # una de las listas está vacía, la otra no. Sin discriminar anexo ambas.\n",
        "      combinado.append(lista1.pop(0))\n",
        "    while len(lista2)>0:\n",
        "      combinado.append(lista2.pop(0))\n",
        " \n",
        "    #print(\"Combinados:\",combinado)\n",
        "    return combinado\n",
        "\n",
        "def resolver(lista):\n",
        "  puntos=[0,0,0,0]\n",
        "  distancia = 999\n",
        "  for i in range(len(lista)-1):\n",
        "    if lista[i+1]-lista[i] < distancia:\n",
        "      distancia = lista[i+1]-lista[i]\n",
        "      puntos = [i,lista[i],i+1,lista[i+1]]\n",
        "  #print(\"Los puntos más próximos (distancia:\",distancia,\" ) son el\",puntos[0],\"(\",puntos[1],\") y\",puntos[2],\"(\",puntos[3],\")\")\n",
        "\n",
        "valores=[]\n",
        "for i in range(100):\n",
        "  LISTA_1D = [random.randrange(1,1000) for x in range(1000)]\n",
        "  start = time.time()\n",
        "  resolver(divide_y_venceras(LISTA_1D))\n",
        "  end = time.time()\n",
        "  valores.append(end-start)\n",
        "\n",
        "print(\"\\n\\nTiempo medio de proceso: \",statistics.mean(valores))\n"
      ],
      "execution_count": 0,
      "outputs": [
        {
          "output_type": "stream",
          "text": [
            "Tiempo medio de proceso:  0.004782238006591797\n"
          ],
          "name": "stdout"
        }
      ]
    },
    {
      "cell_type": "markdown",
      "metadata": {
        "id": "DgfNnJSr496P",
        "colab_type": "text"
      },
      "source": [
        "Veamos la complejidad del resultado:\n",
        "\n",
        "( if lista2==[] ) -> 1\n",
        "\n",
        "( if len(lista1)==1 ) -> 1\n",
        "\n",
        "( corte = math.ceil(len(lista1)/2) ) -> 1 \n",
        "\n",
        "return divide_y_venceras(divide_y_venceras(lista1[0:corte]),divide_y_venceras(lista1[corte:])) -> Esto no aporta complejidad, pero dobla la pila de recursión y debe ser tenido en cuenta.\n",
        "\n",
        "( combinado = [] ) -> 1\n",
        "\n",
        "( while ) -> Longitud de la lista menor en el mejor caso, suma de sus longitudes -1 en el peor\n",
        "\n",
        "( if lista1[0] < lista2[0] ) -> 1\n",
        "\n",
        "( combinado.append(lista1.pop(0)) ) -> 1\n",
        "\n",
        "( while len(lista1)>0 ) y ( while len(lista2)>0 ) -> 1 en el mejor caso, longitud de la lista mayor en el peor.\n",
        "\n",
        "Se quedaría por tanto en:\n",
        "\n",
        "$(1+1+1)N$ (la división, y luego) $N*(1+1)$ (y podemos despreciar los dos últimos \"while\" pues suman 1 por cada elemento que comprendan, que sería un elemento menos para el $N$ en $N*(1+1)$; es decir, cada paso por este while aporta $1$ pero es un paso menos por el $(1+1)$.\n",
        "\n",
        "Finalmente hacemos una búsqueda de la pareja más próxima que es de orden constante $N-1$.\n",
        "\n",
        "En resumen, durante la división del problema acumulamos $3N$ y en su resolución tenemos $2N + (N-1) \\approx 3N$ por lo que la complejidad sería $O(6N)$, es decir, lineal con el tamaño del problema.\n",
        "\n",
        "Una forma de mejorarlo sería finalizar la búsqueda de la pareja más próxima en cuanto encontremos una pareja separada por la distancia mínima, como hicimos en el de fuerza bruta, lo que transformaría ese $N-1$ en $1$ en el mejor caso, $N-1$ en el peor y $\\frac{N}{2}$ de promedio.\n",
        "\n",
        "Por otro lado, si tuviéramos información de los datos a tratar podríamos intentar optimizar los casos base o la división en cada recursión, pero en este caso son números aleatorios por lo que la división adoptada (por la mitad) parece la más apropiada, así como el caso base (elemento suelto).\n",
        "\n",
        "Vamos pues a intentar extender el algoritmo para puntos 2D:\n",
        "      "
      ]
    },
    {
      "cell_type": "code",
      "metadata": {
        "colab_type": "code",
        "outputId": "455b290c-3a16-4889-e7f9-7febade37a07",
        "id": "soMWznRgU2ho",
        "colab": {
          "base_uri": "https://localhost:8080/",
          "height": 72
        }
      },
      "source": [
        "import random\n",
        "import math\n",
        "import time\n",
        "import statistics\n",
        "\n",
        "def modulo(punto):\n",
        "  return math.sqrt(punto[0]**2+punto[1]**2)\n",
        "\n",
        "def calcular_distancia_2D(punto1, punto2):\n",
        "  return math.sqrt((punto1[0]-punto2[0])**2+((punto1[1]-punto2[1])**2))\n",
        "\n",
        "def divide_y_venceras_2D(lista1, lista2=[]):\n",
        "  if len(lista2)==0: # fase de dividir\n",
        "    if len(lista1)==1: return lista1 # caso base\n",
        "    else:\n",
        "      corte = math.ceil(len(lista1)/2) \n",
        "      return divide_y_venceras(divide_y_venceras_2D(lista1[0:corte]),divide_y_venceras_2D(lista1[corte:]))\n",
        "\n",
        "  else:  # fase de combinar\n",
        "    combinado = []\n",
        "    while len(lista1)>0 and len(lista2) > 0: # hasta vaciar las listas recibidas como parámetro\n",
        "      if modulo(lista1[0]) < modulo(lista2[0]): # añado el elemento menor a la lista resultado\n",
        "        combinado.append(lista1.pop(0))\n",
        "      else: \n",
        "        combinado.append(lista2.pop(0))\n",
        "    while len(lista1)>0: # una de las listas está vacía, la otra no. Sin discriminar anexo ambas.\n",
        "      combinado.append(lista1.pop(0))\n",
        "    while len(lista2)>0:\n",
        "      combinado.append(lista2.pop(0))\n",
        " \n",
        "    #print(\"Combinados:\",combinado)\n",
        "    return combinado\n",
        "\n",
        "def resolver(lista):\n",
        "  puntos=[0,0,0,0]\n",
        "  distancia = 999\n",
        "  for i in range(len(lista)-1):\n",
        "    mi_distancia = calcular_distancia_2D(lista[i],lista[i+1])\n",
        "    if mi_distancia < distancia:\n",
        "      distancia = mi_distancia\n",
        "      puntos = [i,lista[i],i+1,lista[i+1]]\n",
        "  #print(\"Los puntos más próximos (distancia:\",distancia,\" ) son el\",puntos[0],\"(\",puntos[1],\") y\",puntos[2],\"(\",puntos[3],\")\")\n",
        "\n",
        "valores=[]\n",
        "for i in range(100):\n",
        "  LISTA_2D = [[random.randrange(1,1000),random.randrange(1,1000)] for x in range(1000)]\n",
        "  start = time.time()\n",
        "  resolver(divide_y_venceras_2D(LISTA_2D))\n",
        "  end = time.time()\n",
        "  valores.append(end-start)\n",
        "\n",
        "print(\"\\n\\nTiempo medio de proceso: \",statistics.mean(valores))\n"
      ],
      "execution_count": 0,
      "outputs": [
        {
          "output_type": "stream",
          "text": [
            "\n",
            "\n",
            "Tiempo medio de proceso:  0.018212814331054688\n"
          ],
          "name": "stdout"
        }
      ]
    },
    {
      "cell_type": "markdown",
      "metadata": {
        "id": "s5MbL2xsXgwb",
        "colab_type": "text"
      },
      "source": [
        "Extender el algoritmo a 3D y, en general, a ND, sería sencillo, bastaría con adaptar el cálculo de la distancia y el módulo. Haciéndolo manualmente para 3D quedaría así:"
      ]
    },
    {
      "cell_type": "code",
      "metadata": {
        "id": "F9bwdZzCXtv4",
        "colab_type": "code",
        "colab": {}
      },
      "source": [
        "def modulo(punto):\n",
        "  return math.sqrt(punto[0]**2+punto[1]**2+punto[2]**2)\n",
        "  \n",
        "def calcular_distancia_3D(punto1, punto2):\n",
        "  return math.sqrt((punto1[0]-punto2[0])**2+((punto1[1]-punto2[1])**2)+((punto1[2]-punto2[2])**2))"
      ],
      "execution_count": 0,
      "outputs": []
    },
    {
      "cell_type": "markdown",
      "metadata": {
        "id": "PhUjS5R5X7zi",
        "colab_type": "text"
      },
      "source": [
        "Y si lo hacemos de modo general para ND quedaría así:"
      ]
    },
    {
      "cell_type": "code",
      "metadata": {
        "colab_type": "code",
        "id": "qf-yqNsPYDlk",
        "colab": {}
      },
      "source": [
        "def modulo(punto):\n",
        "  tmp = 0\n",
        "  for i in punto:\n",
        "    tmp += i**2\n",
        "  return math.sqrt(tmp)\n",
        "\n",
        "def calcular_distancia_ND(punto1, punto2):\n",
        "  tmp = 0\n",
        "  for i in range(len(punto1)):\n",
        "    tmp += (punto1[i]-punto2[i])**2\n",
        "  return math.sqrt(tmp)\n\n\n\n",
        "\n",
        "  \n",
        "\n",
        "\n"
      ],
      "execution_count": 0,
      "outputs": []
    }
  ]
}
