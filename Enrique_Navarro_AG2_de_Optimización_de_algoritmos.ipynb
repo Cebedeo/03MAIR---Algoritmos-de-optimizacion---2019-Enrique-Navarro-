{
  "nbformat": 4,
  "nbformat_minor": 0,
  "metadata": {
    "colab": {
      "name": "Enrique_Navarro - AG2 de Optimización de algoritmos.ipynb",
      "provenance": [],
      "authorship_tag": "ABX9TyP1o0p84J5s+eAkqTVhq0/F",
      "include_colab_link": true
    },
    "kernelspec": {
      "name": "python3",
      "display_name": "Python 3"
    }
  },
  "cells": [
    {
      "cell_type": "markdown",
      "metadata": {
        "id": "view-in-github",
        "colab_type": "text"
      },
      "source": [
        "<a href=\"https://colab.research.google.com/github/Cebedeo/03MAIR---Algoritmos-de-optimizacion---2019-Enrique-Navarro-/blob/master/Enrique_Navarro_AG2_de_Optimizaci%C3%B3n_de_algoritmos.ipynb\" target=\"_parent\"><img src=\"https://colab.research.google.com/assets/colab-badge.svg\" alt=\"Open In Colab\"/></a>"
      ]
    },
    {
      "cell_type": "markdown",
      "metadata": {
        "id": "iXt2EOxH7-8p",
        "colab_type": "text"
      },
      "source": [
        "**Actividad guiada 2 de Enrique Navarro**\n",
        "\n",
        "Disponible en CO en este enlace: https://colab.research.google.com/drive/1rZRLLvGTrK046FZ90pV72XimXeZrDHN7\n",
        "\n"
      ]
    },
    {
      "cell_type": "markdown",
      "metadata": {
        "id": "EkP7tPEUH2kQ",
        "colab_type": "text"
      },
      "source": [
        "1. Viaje por el río - Programación dinámica"
      ]
    },
    {
      "cell_type": "code",
      "metadata": {
        "id": "DYLrETY9BW8d",
        "colab_type": "code",
        "colab": {
          "base_uri": "https://localhost:8080/",
          "height": 384
        },
        "outputId": "24f78394-b134-49df-96f4-84c26c7103a6"
      },
      "source": [
        "TARIFAS = [\n",
        "[0,5,4,3,999,999,999],\n",
        "[999,0,999,2,3,999,11],\n",
        "[999,999, 0,1,999,4,10],\n",
        "[999,999,999, 0,5,6,9],\n",
        "[999,999, 999,999,0,999,4],\n",
        "[999,999, 999,999,999,0,3],\n",
        "[999,999,999,999,999,999,0]\n",
        "]\n",
        "\n",
        "def Precios(TARIFAS):\n",
        "  #Total de Nodos\n",
        "  N = len(TARIFAS[0])\n",
        "  \n",
        "  #Inicialización de la tabla de precios\n",
        "  PRECIOS = [ [9999]*N for i in [9999]*N]\n",
        "  RUTA = [ [\"\"]*N for i in [\"\"]*N]\n",
        "  \n",
        "  for i in range(N-1):\n",
        "    for j in range(i+1, N):\n",
        "      MIN = TARIFAS[i][j]\n",
        "      RUTA[i][j] = i\n",
        "      \n",
        "      for k in range(i, j):\n",
        "        if PRECIOS[i][k] + TARIFAS[k][j] < MIN:\n",
        "            MIN = min(MIN, PRECIOS[i][k] + TARIFAS[k][j] )\n",
        "            RUTA[i][j] = k\n",
        "        PRECIOS[i][j] = MIN\n",
        "        \n",
        "  return PRECIOS,RUTA\n",
        "\n",
        "PRECIOS,RUTA = Precios(TARIFAS)  \n",
        "#print(PRECIOS[0][6])\n",
        "\n",
        "print(\"PRECIOS\")\n",
        "for i in range(len(TARIFAS)):\n",
        "  print(PRECIOS[i])\n",
        "\n",
        "print(\"\\nRUTA\")  \n",
        "for i in range(len(TARIFAS)):\n",
        "  print(RUTA[i]) \n",
        "\n",
        "def calcular_ruta(RUTA, desde, hasta):\n",
        "  if desde == hasta:\n",
        "    #print(\"Ir a :\" + str(desde))\n",
        "    return desde \n",
        "  else:\n",
        "    return str(calcular_ruta(RUTA, desde, RUTA[desde][hasta])) +  ',' + str(RUTA[desde][hasta]) \n",
        "\n",
        "print(\"\\nLa ruta es:\")  \n",
        "calcular_ruta(RUTA, 0,6) \n"
      ],
      "execution_count": 2,
      "outputs": [
        {
          "output_type": "stream",
          "text": [
            "PRECIOS\n",
            "[9999, 5, 4, 3, 8, 8, 11]\n",
            "[9999, 9999, 999, 2, 3, 8, 7]\n",
            "[9999, 9999, 9999, 1, 6, 4, 7]\n",
            "[9999, 9999, 9999, 9999, 5, 6, 9]\n",
            "[9999, 9999, 9999, 9999, 9999, 999, 4]\n",
            "[9999, 9999, 9999, 9999, 9999, 9999, 3]\n",
            "[9999, 9999, 9999, 9999, 9999, 9999, 9999]\n",
            "\n",
            "RUTA\n",
            "['', 0, 0, 0, 1, 2, 5]\n",
            "['', '', 1, 1, 1, 3, 4]\n",
            "['', '', '', 2, 3, 2, 5]\n",
            "['', '', '', '', 3, 3, 3]\n",
            "['', '', '', '', '', 4, 4]\n",
            "['', '', '', '', '', '', 5]\n",
            "['', '', '', '', '', '', '']\n",
            "\n",
            "La ruta es:\n"
          ],
          "name": "stdout"
        },
        {
          "output_type": "execute_result",
          "data": {
            "text/plain": [
              "'0,0,2,5'"
            ]
          },
          "metadata": {
            "tags": []
          },
          "execution_count": 2
        }
      ]
    },
    {
      "cell_type": "markdown",
      "metadata": {
        "id": "Mwd-gpfkJ92f",
        "colab_type": "text"
      },
      "source": [
        "2. Problema de asignación de tarea\n"
      ]
    },
    {
      "cell_type": "code",
      "metadata": {
        "id": "keyTt5ydOTjp",
        "colab_type": "code",
        "colab": {
          "base_uri": "https://localhost:8080/",
          "height": 35
        },
        "outputId": "576f3f52-2fd7-41ab-bbb0-3acec1931d74"
      },
      "source": [
        "COSTES=[[11,12,18,40],\n",
        "        [14,15,13,22],\n",
        "        [11,17,19,23],\n",
        "        [17,14,20,28]]\n",
        "\n",
        "def valor(S,COSTES):\n",
        "  VALOR = 0\n",
        "  for i in range(len(S)):\n",
        "    VALOR += COSTES[S[i]][i] \n",
        "  return VALOR\n",
        "  \n",
        "valor((0, 1, 2, 3),COSTES)\n",
        "\n"
      ],
      "execution_count": 2,
      "outputs": [
        {
          "output_type": "execute_result",
          "data": {
            "text/plain": [
              "73"
            ]
          },
          "metadata": {
            "tags": []
          },
          "execution_count": 2
        }
      ]
    },
    {
      "cell_type": "markdown",
      "metadata": {
        "id": "A4JWrFdqK9Dw",
        "colab_type": "text"
      },
      "source": [
        "**Resolución por la fuerza bruta**"
      ]
    },
    {
      "cell_type": "code",
      "metadata": {
        "id": "Ui3cOnAJLD1g",
        "colab_type": "code",
        "colab": {
          "base_uri": "https://localhost:8080/",
          "height": 54
        },
        "outputId": "e6b49727-1fe0-4e83-ebd6-65b93304d356"
      },
      "source": [
        "import time\n",
        "import itertools\n",
        "from random import randrange\n",
        "\n",
        "# Añado una función para crear automáticamente los COSTES del tamaño que reciba como parámetro\n",
        "def crear_costes(n):  \n",
        "  costes = []\n",
        "  for i in range(n):\n",
        "    tmp_vec = []\n",
        "    for j in range(n):\n",
        "      tmp_vec.append(randrange(50))\n",
        "    costes.append(tmp_vec)\n",
        "  return costes\n",
        "\n",
        "# Y a picar piedra\n",
        "def fuerza_bruta(COSTES):\n",
        "  mejor_valor = 10e10\n",
        "  mejor_solucion = ()\n",
        "\n",
        "  for s in list(itertools.permutations(range(len(COSTES)))):\n",
        "    #print(s,valor(s,COSTES))\n",
        "    valor_tmp = valor(s,COSTES)\n",
        "    if valor_tmp < mejor_valor:\n",
        "      mejor_valor = valor_tmp\n",
        "      mejor_solucion = s\n",
        "  \n",
        "  print(\"La mejor solución es: \",mejor_solucion,\" con valor:\",mejor_valor)\n",
        "\n",
        "COSTES2 = crear_costes(10)\n",
        "#print(\"Costes de la iteración: \",COSTES2)\n",
        "start = time.time()\n",
        "fuerza_bruta(COSTES2)\n",
        "end = time.time()\n",
        "print(\"La ejecución ha consumido \",end-start,\"segundos\")"
      ],
      "execution_count": 8,
      "outputs": [
        {
          "output_type": "stream",
          "text": [
            "La mejor solución es:  (9, 3, 8, 0, 5, 4, 2, 6, 1, 7)  con valor: 65\n",
            "La ejecución ha consumido  4.74428653717041 segundos\n"
          ],
          "name": "stdout"
        }
      ]
    },
    {
      "cell_type": "markdown",
      "metadata": {
        "id": "PXmCfv_APTgB",
        "colab_type": "text"
      },
      "source": [
        "**Práctica de ramificación y poda**"
      ]
    },
    {
      "cell_type": "code",
      "metadata": {
        "id": "Olmczks5Pc7Y",
        "colab_type": "code",
        "colab": {
          "base_uri": "https://localhost:8080/",
          "height": 201
        },
        "outputId": "b28b412c-eab5-4776-92f8-41c6e2df06f7"
      },
      "source": [
        "#Coste inferior para soluciones parciales\n",
        "#  (1,3,) Se asigna la tarea 1 al agente 0 y la tarea 3 al agente 1\n",
        "\n",
        "def CI(S,COSTES):\n",
        "  VALOR = 0\n",
        "  #Valores establecidos\n",
        "  for i in range(len(S)):\n",
        "    VALOR += COSTES[i][S[i]]\n",
        "\n",
        "  #Estimacion\n",
        "  for i in range( len(COSTES) ):\n",
        "    if i not in S:\n",
        "      VALOR += min( [ COSTES[j][i] for j in range(len(S), len(COSTES))  ])\n",
        "  return VALOR\n",
        "\n",
        "#Coste superior para soluciones parciales\n",
        "def CS(S,COSTES):\n",
        "  VALOR = 0\n",
        "  #Valores establecidos\n",
        "  for i in range(len(S)):\n",
        "    VALOR += COSTES[i][S[i]]\n",
        "\n",
        "  #Estimacion\n",
        "  for i in range(  len(COSTES)   ):\n",
        "    if i not in S:\n",
        "      VALOR += max( [ COSTES[j][i] for j in range(len(S), len(COSTES))  ])\n",
        "  return VALOR\n",
        "\n",
        "#Genera tantos hijos como como posibilidades haya para la siguiente elemento de la tupla\n",
        "#(0,) -> (0,1), (0,2), (0,3)\n",
        "def crear_hijos(NODO, N):\n",
        "  HIJOS = []\n",
        "  for i in range(N):\n",
        "    if i not in NODO:\n",
        "      HIJOS.append({'s':NODO +(i,)    })\n",
        "  return HIJOS\n",
        "\n",
        "def ramificacion_y_poda(COSTES):\n",
        "#Construccion iterativa de soluciones(arbol). En cada etapa asignamos un agente(ramas).\n",
        "#Nodos del grafo  { s:(1,2),CI:3,CS:5  }\n",
        "  #print(COSTES)\n",
        "  DIMENSION = len(COSTES)  \n",
        "  MEJOR_SOLUCION=tuple( i for i in range(len(COSTES)) )\n",
        "  CotaSup = valor(MEJOR_SOLUCION,COSTES)\n",
        "  #print(\"Cota Superior:\", CotaSup)\n",
        "\n",
        "  NODOS=[]\n",
        "  NODOS.append({'s':(), 'ci':CI((),COSTES)    } )\n",
        "\n",
        "  iteracion = 0\n",
        "\n",
        "  while( len(NODOS) > 0):\n",
        "    iteracion +=1\n",
        "\n",
        "    nodo_prometedor = [ min(NODOS, key=lambda x:x['ci']) ][0]['s']\n",
        "    #print(\"Nodo prometedor:\", nodo_prometedor)\n",
        "\n",
        "    #Ramificacion\n",
        "    #Se generan los hijos\n",
        "    HIJOS =[ {'s':x['s'], 'ci':CI(x['s'], COSTES)   } for x in crear_hijos(nodo_prometedor, DIMENSION) ]\n",
        "\n",
        "    #Revisamos la cota superior y nos quedamos con la mejor solucion si llegamos a una solucion final\n",
        "    NODO_FINAL = [x for x in HIJOS if len(x['s']) == DIMENSION  ]\n",
        "    if len(NODO_FINAL ) >0: \n",
        "      #print(\"\\n********Soluciones:\",  [x for x in HIJOS if len(x['s']) == DIMENSION  ] )\n",
        "      if NODO_FINAL[0]['ci'] < CotaSup:\n",
        "        CotaSup = NODO_FINAL[0]['ci']\n",
        "        MEJOR_SOLUCION = NODO_FINAL\n",
        " \n",
        "    #Poda\n",
        "    HIJOS = [x for x in HIJOS if x['ci'] < CotaSup   ]\n",
        "\n",
        "    #Añadimos los hijos \n",
        "    NODOS.extend(HIJOS) \n",
        "\n",
        "    #Eliminamos el nodo ramificado\n",
        "    NODOS =  [  x for x in NODOS if x['s'] != nodo_prometedor    ]\n",
        "   \n",
        "    #print(\"La solucion final es:\" ,MEJOR_SOLUCION , \" en \" , iteracion , \" iteraciones\" , \" para dimension: \" ,DIMENSION  )\n",
        "\n",
        "for i in range(10,20):\n",
        "  COSTES2 = crear_costes(i)\n",
        "  start = time.time()\n",
        "  ramificacion_y_poda(COSTES2)\n",
        "  end = time.time()\n",
        "  print(\"La ejecución para dimensión\",i,\"ha consumido \",end-start,\"segundos\")"
      ],
      "execution_count": 24,
      "outputs": [
        {
          "output_type": "stream",
          "text": [
            "La ejecución para dimensión 10 ha consumido  0.021632671356201172 segundos\n",
            "La ejecución para dimensión 11 ha consumido  0.021965742111206055 segundos\n",
            "La ejecución para dimensión 12 ha consumido  1.9708101749420166 segundos\n",
            "La ejecución para dimensión 13 ha consumido  0.07907414436340332 segundos\n",
            "La ejecución para dimensión 14 ha consumido  0.08124947547912598 segundos\n",
            "La ejecución para dimensión 15 ha consumido  0.19988346099853516 segundos\n",
            "La ejecución para dimensión 16 ha consumido  0.37610507011413574 segundos\n",
            "La ejecución para dimensión 17 ha consumido  3.612288236618042 segundos\n",
            "La ejecución para dimensión 18 ha consumido  115.62923955917358 segundos\n",
            "La ejecución para dimensión 19 ha consumido  1478.1071503162384 segundos\n"
          ],
          "name": "stdout"
        }
      ]
    },
    {
      "cell_type": "markdown",
      "metadata": {
        "id": "8BsqOVvdT18y",
        "colab_type": "text"
      },
      "source": [
        "**Análisis para mejorar nota**<br>\n",
        "La complejidad del algoritmo de fuerza bruta es n!<br>\n",
        "Las matrices se generan con la función crear_costes(dimensión_de_la_matriz).<br>\n",
        "Fuerza bruta deja de ser práctico a partir de la dimensión 10 (4 segundos y medio) u 11 (54 segundos).<br>\n",
        "Para ramificación y poda se probó el valor que sugerí durante la clase, dimensión 30. Ha resultado ser claramente excesivo, tras varios minutos me he visto obligado a detener la ejecución.<br>\n",
        "Para poder comparar, finalmente se lanza con un bucle para dimensiones de 10 a 14.<br>\n",
        "**Conclusión**<br>\n",
        "Aunque debido a la generación aleatoria de los costes en cada iteración los tiempos varían, en general a partir de la dimensión 13 se va a varios segundos (habiendo llegado a ser 43) por lo que diremos que en dimensión 13 deja de ser práctico para una aplicación en tiempo real, mientras que realmente útil es difícil aventurarse, se ha probado con dimensión hasta 20 y la variación de resultados es enorme (dimensión 16, resuelta en 0.376 segundos, ¡o 220 segundos!), por lo que yo diría que en algún lugar entre 18 y 20 dimensiones la posibilidad de que el tiempo necesario sea excesivo es ya muy alta.\n",
        "\n"
      ]
    },
    {
      "cell_type": "markdown",
      "metadata": {
        "id": "Cm-yB1_eZ_eF",
        "colab_type": "text"
      },
      "source": [
        "**Descenso de gradiente**"
      ]
    },
    {
      "cell_type": "code",
      "metadata": {
        "id": "6kLxClITaD87",
        "colab_type": "code",
        "colab": {
          "base_uri": "https://localhost:8080/",
          "height": 283
        },
        "outputId": "3633fc2b-db29-4de7-aeb0-b6a2b9cc216d"
      },
      "source": [
        "import math                     #Funciones matemáticas\n",
        "import matplotlib.pyplot as plt #Generación de gráficos (otra opción es seaborn)\n",
        "import numpy as np              #Tratamiento matriz N-dimensionales y otras (fundamental!)\n",
        "#import scipy as sc\n",
        "\n",
        "import random\n",
        "\n",
        "#La función a minimizar: paraboloide\n",
        "f  = lambda X: X[0]**2+X[1]**2  #Funcion\n",
        "df = lambda X: [2*X[0], 2*X[1]] #Gradiente\n",
        "\n",
        "########### Función del ejercicio siguiente, incorporada aquí #############\n",
        "#Definimos la funcion\n",
        "#sin(1/2 * x^2 - 1/4 * y^2 + 3) * cos(2*x +1 - E^y)\n",
        "#f = lambda X: np.sin(1/2 * X[0]**2 - 1/4 * X[1]**2 +3) * np.cos(2 * X[0] +1 - np.e**X[1])\n",
        "\n",
        "#¿Y el gradiente?\n",
        "#Aproximamos el valor del gradiente en un punto por su definición\n",
        "# def df(PUNTO):\n",
        "#   h = 0.01\n",
        "#   T = np.copy(PUNTO)\n",
        "#   grad = np.zeros(2)\n",
        "#   for it, th in enumerate(PUNTO):\n",
        "#     T[it] = T[it]+h\n",
        "#     grad[it] = (f(T) - f(PUNTO)) / h\n",
        "#   return grad\n",
        "\n",
        "\n",
        "#Prepara los datos para dibujar mapa de niveles de Z\n",
        "resolucion = 100\n",
        "rango=2.5\n",
        "X=np.linspace(-rango,rango,resolucion)\n",
        "Y=np.linspace(-rango,rango,resolucion)\n",
        "Z=np.zeros((resolucion,resolucion))\n",
        "for ix,x in enumerate(X):\n",
        "  for iy,y in enumerate(Y):\n",
        "    Z[iy,ix] = f([x,y])\n",
        "\n",
        "#Pinta el mapa de niveles de Z\n",
        "plt.contourf(X,Y,Z,resolucion)\n",
        "plt.colorbar()\n",
        "\n",
        "#Generamos un punto aleatorio\n",
        "P=[random.uniform(-2,2 ),random.uniform(-2,2 ) ]\n",
        "plt.plot(P[0],P[1],\"o\",c=\"white\")\n",
        "\n",
        "#Iteramos el algoritmo\n",
        "#Tasa de aprendizaje\n",
        "TA=.1\n",
        "\n",
        "#Iteraciones\n",
        "for _ in range(500):\n",
        "  grad = df(P)\n",
        "  #print(P,grad)\n",
        "  P[0],P[1] = P[0] - TA*grad[0] , P[1] - TA*grad[1]\n",
        "  plt.plot(P[0],P[1],\"o\",c=\"red\")\n",
        "\n",
        "#Pintamos el gráfico con las iteraciones\n",
        "plt.plot(P[0],P[1],\"o\",c=\"green\")\n",
        "plt.show()\n",
        "print(\"Solucion:\" , P , f(P))\n"
      ],
      "execution_count": 32,
      "outputs": [
        {
          "output_type": "display_data",
          "data": {
            "image/png": "[encoded data removed]",
            "text/plain": [
              "<Figure size 432x288 with 2 Axes>"
            ]
          },
          "metadata": {
            "tags": []
          }
        },
        {
          "output_type": "stream",
          "text": [
            "Solucion: [-0.004999999999999998, -0.005000000000000004] 5.000000000000002e-05\n"
          ],
          "name": "stdout"
        }
      ]
    },
    {
      "cell_type": "markdown",
      "metadata": {
        "id": "yNu4J0YafzVF",
        "colab_type": "text"
      },
      "source": [
        "**Otra función a minimizar**\n"
      ]
    },
    {
      "cell_type": "code",
      "metadata": {
        "id": "DLO3KtJXf24W",
        "colab_type": "code",
        "colab": {}
      },
      "source": [
        "#Definimos la funcion\n",
        "#sin(1/2 * x^2 - 1/4 * y^2 + 3) * cos(2*x +1 - E^y)\n",
        "f = lambda X: np.sin(1/2 * X[0]**2 - 1/4 * X[1]**2 +3) * np.cos(2 * X[0] +1 - np.e**X[1])\n",
        "\n",
        "#¿Y el gradiente?\n",
        "#Aproximamos el valor del gradiente en un punto por su definición\n",
        "def df(PUNTO):\n",
        "  h = 0.01\n",
        "  T = np.copy(PUNTO)\n",
        "  grad = np.zeros(2)\n",
        "  for it, th in enumerate(PUNTO):\n",
        "    T[it] = T[it]+h\n",
        "    grad[it] = (f(T) - f(PUNTO)) / h\n",
        "  return grad\n",
        "\n",
        "###### Nota: se incorpora este código al anterior comentado para no duplicar tanto código."
      ],
      "execution_count": 0,
      "outputs": []
    }
  ]
}