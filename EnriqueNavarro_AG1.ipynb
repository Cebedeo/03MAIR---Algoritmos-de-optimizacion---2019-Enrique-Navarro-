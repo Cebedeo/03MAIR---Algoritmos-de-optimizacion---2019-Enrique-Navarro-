{
  "nbformat": 4,
  "nbformat_minor": 0,
  "metadata": {
    "colab": {
      "name": "EnriqueNavarro -AG1.ipynb",
      "provenance": [],
      "collapsed_sections": [],
      "include_colab_link": true
    },
    "kernelspec": {
      "name": "python3",
      "display_name": "Python 3"
    }
  },
  "cells": [
    {
      "cell_type": "markdown",
      "metadata": {
        "id": "view-in-github",
        "colab_type": "text"
      },
      "source": [
        "<a href=\"https://colab.research.google.com/github/Cebedeo/03MAIR---Algoritmos-de-optimizacion---2019-Enrique-Navarro-/blob/master/EnriqueNavarro_AG1.ipynb\" target=\"_parent\"><img src=\"https://colab.research.google.com/assets/colab-badge.svg\" alt=\"Open In Colab\"/></a>"
      ]
    },
    {
      "cell_type": "code",
      "metadata": {
        "id": "QuEdR98eoocE",
        "colab_type": "code",
        "colab": {}
      },
      "source": [
        ""
      ],
      "execution_count": 0,
      "outputs": []
    },
    {
      "cell_type": "markdown",
      "metadata": {
        "id": "laq315mco8-Q",
        "colab_type": "text"
      },
      "source": [
        "AG1. Algoritmos de optimización</br>\n",
        "Enrique Navarro</br>\n",
        "https://colab.research.google.com/drive/1gW09Gc8tNGTzlX4su-KIWDHSK0XB-ozC#scrollTo=laq315mco8-Q&line=2&uniqifier=1"
      ]
    },
    {
      "cell_type": "code",
      "metadata": {
        "id": "l2UKqwdoqLBz",
        "colab_type": "code",
        "colab": {
          "base_uri": "https://localhost:8080/",
          "height": 293
        },
        "outputId": "330746cb-2a97-4f62-8d93-73c33371a70f"
      },
      "source": [
        "def torres(N, desde, hasta):\n",
        "  if N==1:\n",
        "    print(\"Mover la ficha desde\",desde,\"hasta\",hasta)\n",
        "  else:\n",
        "    torres(N-1, desde,6-desde-hasta)\n",
        "    print(\"Mover la ficha desde\",desde,\"hasta\",hasta)\n",
        "    torres(N-1, 6-desde-hasta, hasta)\n",
        "\n",
        "\n",
        "\n",
        "torres(4,1,3)\n"
      ],
      "execution_count": 1,
      "outputs": [
        {
          "output_type": "stream",
          "text": [
            "Mover la ficha desde 1 hasta 2\n",
            "Mover la ficha desde 1 hasta 3\n",
            "Mover la ficha desde 2 hasta 3\n",
            "Mover la ficha desde 1 hasta 2\n",
            "Mover la ficha desde 3 hasta 1\n",
            "Mover la ficha desde 3 hasta 2\n",
            "Mover la ficha desde 1 hasta 2\n",
            "Mover la ficha desde 1 hasta 3\n",
            "Mover la ficha desde 2 hasta 3\n",
            "Mover la ficha desde 2 hasta 1\n",
            "Mover la ficha desde 3 hasta 1\n",
            "Mover la ficha desde 2 hasta 3\n",
            "Mover la ficha desde 1 hasta 2\n",
            "Mover la ficha desde 1 hasta 3\n",
            "Mover la ficha desde 2 hasta 3\n"
          ],
          "name": "stdout"
        }
      ]
    }
  ]
}