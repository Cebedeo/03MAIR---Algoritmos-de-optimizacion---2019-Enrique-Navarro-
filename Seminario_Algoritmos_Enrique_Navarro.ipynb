{
  "nbformat": 4,
  "nbformat_minor": 0,
  "metadata": {
    "colab": {
      "name": "Seminario_Algoritmos_Enrique_Navarro.ipynb",
      "provenance": [],
      "collapsed_sections": [],
      "include_colab_link": true
    },
    "kernelspec": {
      "display_name": "Python 3",
      "language": "python",
      "name": "python3"
    },
    "language_info": {
      "codemirror_mode": {
        "name": "ipython",
        "version": 3
      },
      "file_extension": ".py",
      "mimetype": "text/x-python",
      "name": "python",
      "nbconvert_exporter": "python",
      "pygments_lexer": "ipython3",
      "version": "3.7.4"
    }
  },
  "cells": [
    {
      "cell_type": "markdown",
      "metadata": {
        "id": "view-in-github",
        "colab_type": "text"
      },
      "source": [
        "<a href=\"https://colab.research.google.com/github/Cebedeo/03MAIR---Algoritmos-de-optimizacion---2019-Enrique-Navarro-/blob/master/Seminario_Algoritmos_Enrique_Navarro.ipynb\" target=\"_parent\"><img src=\"https://colab.research.google.com/assets/colab-badge.svg\" alt=\"Open In Colab\"/></a>"
      ]
    },
    {
      "cell_type": "markdown",
      "metadata": {
        "colab_type": "text",
        "id": "hVbXYX-RfPWh"
      },
      "source": [
        "# Algoritmos de optimización - Seminario<br>\n",
        "Nombre y Apellidos:  <b>Enrique Navarro Bañó</b> <br>\n",
        "Url (Github): https://github.com/Cebedeo/03MAIR---Algoritmos-de-optimizacion---2019-Enrique-Navarro-/tree/master/Seminario_Algoritmos_Enrique_Navarro.ipynb<br>\n",
        "URL (Colab): https://colab.research.google.com/drive/1P774fN15UaCG7_3mUduN7et-y_jsyc_q#scrollTo=hVbXYX-RfPWh&line=4&uniqifier=1<br>\n",
        "Problema: Problema del doblaje\n",
        ">1. Elección de grupos de población homogéneos <br>\n",
        ">2. Organizar los horarios de partidos de La Liga<br>\n",
        ">3. Combinar cifras y operaciones\n",
        "\n",
        "Descripción del problema:(copiar enunciado)\n",
        "\n",
        "<i>Se precisa coordinar el doblaje de una película. Los actores del doblaje deben coincidir en las\n",
        "tomas en las que sus personajes aparecen juntos en las diferentes tomas. Los actores de\n",
        "doblaje cobran todos la misma cantidad por cada día que deben desplazarse hasta el estudio\n",
        "de grabación independientemente del número de tomas que se graben. No es posible grabar\n",
        "más de 6 tomas por día. El objetivo es planificar las sesiones por día de manera que se gasto\n",
        "por los servicios de los actores de doblaje sea el menor posible. Los datos son:\n",
        "\n",
        "Número de actores: 10<br>\n",
        "Número de tomas : 30<br>\n",
        "Actores/Tomas : https://bit.ly/36D8IuK<br>\n",
        "\n",
        "1 indica que el actor participa en la toma<br>\n",
        "0 en caso contrario</i>\n",
        "\n",
        "(*) La respuesta es obligatoria\n",
        "\n",
        "                                        "
      ]
    },
    {
      "cell_type": "code",
      "metadata": {
        "colab_type": "code",
        "id": "AiskKkzZfy4e",
        "colab": {}
      },
      "source": [
        "tomas = (\n",
        "    (1,(1,1,1,1,1,0,0,0,0,0)),\n",
        "    (2,(0,0,1,1,1,0,0,0,0,0)),\n",
        "    (3,(0,1,0,0,1,0,1,0,0,0)),\n",
        "    (4,(1,1,0,0,0,0,1,1,0,0)),\n",
        "    (5,(0,1,0,1,0,0,0,1,0,0)),\n",
        "    (6,(1,1,0,1,1,0,0,0,0,0)),\n",
        "    (7,(1,1,0,1,1,0,0,0,0,0)),\n",
        "    (8,(1,1,0,0,0,1,0,0,0,0)),\n",
        "    (9,(1,1,0,1,0,0,0,0,0,0)),\n",
        "    (10,(1,1,0,0,0,1,0,0,1,0)),\n",
        "    (11,(1,1,1,0,1,0,0,1,0,0)),\n",
        "    (12,(1,1,1,1,0,1,0,0,0,0)),\n",
        "    (13,(1,0,0,1,1,0,0,0,0,0)),\n",
        "    (14,(1,0,1,0,0,1,0,0,0,0)),\n",
        "    (15,(1,1,0,0,0,0,1,0,0,0)),\n",
        "    (16,(0,0,0,1,0,0,0,0,0,1)),\n",
        "    (17,(1,0,1,0,0,0,0,0,0,0)),\n",
        "    (18,(0,0,1,0,0,1,0,0,0,0)),\n",
        "    (19,(1,0,1,0,0,0,0,0,0,0)),\n",
        "    (20,(1,0,1,1,1,0,0,0,0,0)),\n",
        "    (21,(0,0,0,0,0,1,0,1,0,0)),\n",
        "    (22,(1,1,1,1,0,0,0,0,0,0)),\n",
        "    (23,(1,0,1,0,0,0,0,0,0,0)),\n",
        "    (24,(0,0,1,0,0,1,0,0,0,0)),\n",
        "    (25,(1,1,0,1,0,0,0,0,0,1)),\n",
        "    (26,(1,0,1,0,1,0,0,0,1,0)),\n",
        "    (27,(0,0,0,1,1,0,0,0,0,0)),\n",
        "    (28,(1,0,0,1,0,0,0,0,0,0)),\n",
        "    (29,(1,0,0,0,1,1,0,0,0,0)),\n",
        "    (30,(1,0,0,1,0,0,0,0,0,0)))\n",
        "\n",
        "tomas_corta = (             # Se crea una versión más corta para el algoritmo de fuerza bruta\n",
        "    (1,(1,1,1,1,1,0,0,0,0,0)),\n",
        "    (2,(0,0,1,1,1,0,0,0,0,0)),\n",
        "    (3,(0,1,0,0,1,0,1,0,0,0)),\n",
        "    (4,(1,1,0,0,0,0,1,1,0,0)),\n",
        "    (5,(0,1,0,1,0,0,0,1,0,0)),\n",
        "    (6,(1,1,0,1,1,0,0,0,0,0)),\n",
        "    (7,(1,1,0,1,1,0,0,0,0,0)),\n",
        "    (8,(1,1,0,0,0,1,0,0,0,0)),\n",
        "    (9,(1,1,0,1,0,0,0,0,0,0)),\n",
        "    (10,(1,1,0,0,0,1,0,0,1,0)),\n",
        "    (11,(1,1,1,0,1,0,0,1,0,0)),\n",
        "    (12,(1,1,1,1,0,1,0,0,0,0)),\n",
        "    (13,(1,0,0,1,1,0,0,0,0,0)),\n",
        "    (14,(1,0,1,0,0,1,0,0,0,0)),\n",
        "    (15,(1,1,0,0,0,0,1,0,0,0)),\n",
        "    (16,(0,0,0,1,0,0,0,0,0,1)),\n",
        "    (17,(1,0,1,0,0,0,0,0,0,0)),\n",
        "    (18,(0,0,1,0,0,1,0,0,0,0)))\n"
      ],
      "execution_count": 0,
      "outputs": []
    },
    {
      "cell_type": "markdown",
      "metadata": {
        "colab_type": "text",
        "id": "3_-exlrTgLd-"
      },
      "source": [
        "(*)¿Cuantas posibilidades hay sin tener en cuenta las restricciones?<br>\n",
        "\n",
        "\n",
        "\n",
        "¿Cuantas posibilidades hay teniendo en cuenta todas las restricciones.\n",
        "\n",
        "\n"
      ]
    },
    {
      "cell_type": "markdown",
      "metadata": {
        "colab_type": "text",
        "id": "WfCUqJyKhPcw"
      },
      "source": [
        "Respuesta"
      ]
    },
    {
      "cell_type": "code",
      "metadata": {
        "colab_type": "code",
        "id": "iq6Fe32MgpDX",
        "colab": {}
      },
      "source": [
        "<b>Sin considerar las restricciones, el número de posibilidades para cada día sería todas las posibles combinaciones no ordenadas de los elementos en grupos entre 1 y 30, o lo que es lo mismo:<br>\n",
        "    $\\sum_{r=1}^{30} \\binom{30}{r}$ , que es $\\sum_{r=1}^{30} \\frac {30!}{r!(30-r)!}$\n",
        "    "
      ],
      "execution_count": 0,
      "outputs": []
    },
    {
      "cell_type": "code",
      "metadata": {
        "id": "SengaJVNxmp1",
        "colab_type": "code",
        "colab": {},
        "outputId": "f218368a-a465-445f-eee6-9076c7a7242b"
      },
      "source": [
        "import math \n",
        "res = 0\n",
        "fact30 = math.factorial(30)\n",
        "for i in range(30,0,-1):\n",
        "    res += fact30/(math.factorial(30-i)*i)\n",
        "\n",
        "print(\"Las posibilidades por día serían\",res,\"combinaciones distintas de tomas.\")"
      ],
      "execution_count": 0,
      "outputs": [
        {
          "output_type": "stream",
          "text": [
            "Las posibilidades por día serían 2.4893912605687596e+31 combinaciones distintas de tomas.\n"
          ],
          "name": "stdout"
        }
      ]
    },
    {
      "cell_type": "markdown",
      "metadata": {
        "id": "-xevoEJfxmp-",
        "colab_type": "text"
      },
      "source": [
        "<b>Aplicando la restricción que limita el número de tomas por día a 6, el resultado sería la misma combinatoria anterior pero aplicando la restricción de grupos máximos de 6:<br>\n",
        " $\\sum_{r=1}^{6} \\binom{30}{r}$ , que es $\\sum_{r=1}^{6} \\frac {30!}{r!(30-r)!}$\n",
        "</b>\n"
      ]
    },
    {
      "cell_type": "code",
      "metadata": {
        "id": "zni9Sj6lxmqA",
        "colab_type": "code",
        "colab": {},
        "outputId": "ac4a105e-a4eb-4ed4-e18e-4094f209a2c9"
      },
      "source": [
        "res2 = 0\n",
        "for i in range(6,0,-1):\n",
        "    res2 += fact30/(math.factorial(30-i)*i)\n",
        "print(\"Las posibilidades por día serían\",res2,\"combinaciones distintas de tomas.\")\n"
      ],
      "execution_count": 0,
      "outputs": [
        {
          "output_type": "stream",
          "text": [
            "Las posibilidades por día serían 74846159.0 combinaciones distintas de tomas.\n"
          ],
          "name": "stdout"
        }
      ]
    },
    {
      "cell_type": "markdown",
      "metadata": {
        "colab_type": "text",
        "id": "dzynfVJahHoY"
      },
      "source": [
        "Modelo para el espacio de soluciones<br>\n",
        "(*) ¿Cual es la estructura de datos que mejor se adapta al problema? Argumentalo.(Es posible que hayas elegido una al principio y veas la necesidad de cambiar, arguentalo)\n"
      ]
    },
    {
      "cell_type": "markdown",
      "metadata": {
        "colab_type": "text",
        "id": "xFIJrOwKi2Ti"
      },
      "source": [
        "Respuesta"
      ]
    },
    {
      "cell_type": "code",
      "metadata": {
        "colab_type": "code",
        "id": "38c-7-ejhJmA",
        "colab": {}
      },
      "source": [
        "<b>El problema es determinista (acabamos de calcular las posibilidades) y estático.<br>Dado que las tomas tienen un número fijo de actores, concreto (es decir, ordenado), se pueden definir con tuplas.<br>Las combinaciones de tomas también son fijas, luego también usaré tuplas.<br>Sin embargo, la selección de óptimas combinaciones irá probablemente cambiando durante la ejecución del algoritmo, por lo que será mejor usar listas (descartamos los sets por no ser indexados, complicando el acceso a un elemento concreto).\n",
        "</b>"
      ],
      "execution_count": 0,
      "outputs": []
    },
    {
      "cell_type": "markdown",
      "metadata": {
        "colab_type": "text",
        "id": "7Z9U2W7bi-XS"
      },
      "source": [
        "Según el modelo para el espacio de soluciones<br>\n",
        "(*)¿Cual es la función objetivo?\n",
        "\n",
        "(*)¿Es un problema de maximización o minimización?"
      ]
    },
    {
      "cell_type": "markdown",
      "metadata": {
        "colab_type": "text",
        "id": "hBalWLM7j1_d"
      },
      "source": [
        "Respuesta"
      ]
    },
    {
      "cell_type": "code",
      "metadata": {
        "colab_type": "code",
        "id": "pDA-rg3Gj5Lz",
        "colab": {}
      },
      "source": [
        "<b>La función objetivo es $Min! f(x)$ donde $f(x)$ es el coste total del rodaje (suma del coste de los días trabajados por el total de actores implicados, o lo que es lo mismo, suma del total de días de trabajo de actor).<br>\n",
        "    $f(x) = ax$, donde a es el número de actores que actúan cada día y x el número de días.\n",
        "</b>"
      ],
      "execution_count": 0,
      "outputs": []
    },
    {
      "cell_type": "markdown",
      "metadata": {
        "colab_type": "text",
        "id": "rlnTYgY1j6I2"
      },
      "source": [
        "Diseña un algoritmo para resolver el problema por fuerza bruta"
      ]
    },
    {
      "cell_type": "markdown",
      "metadata": {
        "colab_type": "text",
        "id": "70rDgxYXkC8r"
      },
      "source": [
        "Respuesta"
      ]
    },
    {
      "cell_type": "code",
      "metadata": {
        "colab_type": "code",
        "id": "CJb5sQ0qkENy",
        "colab": {},
        "outputId": "b5aa0a4f-2199-4460-c7d0-af8d0f92f9c8"
      },
      "source": [
        "import bisect, time\n",
        "\n",
        "def calcular_coste(tomas):\n",
        "    actores = [0] * len(tomas[0])\n",
        "    for i in tomas:\n",
        "        for j in range(len(i)):\n",
        "            actores[j] = actores[j] or i[j]\n",
        "    return sum(actores)\n",
        "\n",
        "# Genera las combinaciones de seis elementos únicamente, pues la solución óptima es una de ellas. \n",
        "# No se generan todas las posibles soluciones (una toma por día, dos tomas por día, etc.)\n",
        "def combinar(lista):\n",
        "    combinaciones = []\n",
        "    for i in range(len(lista)):\n",
        "        for j in range(i+1, len(lista)):\n",
        "            for k in range(j+1, len(lista)):\n",
        "                 for l in range(k+1, len(lista)):\n",
        "                    for m in range(l+1, len(lista)):\n",
        "                         for n in range(m+1, len(lista)):\n",
        "                            escenas = [i+1,j+1,k+1,l+1,m+1,n+1]\n",
        "                            coste_combinado = calcular_coste([lista[i][1],lista[j][1],lista[k][1],lista[l][1],lista[m][1],lista[n][1]])\n",
        "                            # Se insertan ordenadas por coste creciente en la lista de combinaciones posibles\n",
        "                            bisect.insort(combinaciones, [coste_combinado,escenas])\n",
        "    return combinaciones\n",
        "\n",
        "def localizar(lista):\n",
        "    print(\"Localizando entre\",len(lista),\"tomas...\")\n",
        "    posibles = combinar(lista)\n",
        "    print(\"Ordenadas las\",len(posibles),\"mejores posibilidades. Buscando la combinación más económica.\")\n",
        "    grupos = math.ceil(len(lista)/6)\n",
        "    \n",
        "    mejor = [999,[]] # Peor que la peor combinación, para guardar la mejor\n",
        "    for n in range(len(posibles)):\n",
        "        solucion = [posibles[n]] # Tomo de entrada el valor de coste más bajo disponible\n",
        "        usados = list(solucion[0][1])\n",
        "        \n",
        "        for i in range(len(posibles)-(n+1)):\n",
        "            ausentes = True\n",
        "            for j in usados:\n",
        "                if j in posibles[i][1]:\n",
        "                    ausentes = False\n",
        "                    break\n",
        "            if ausentes:\n",
        "                solucion.append(posibles[i])\n",
        "                for k in posibles[i][1]:\n",
        "                    usados.append(k)\n",
        "        if len(solucion) == grupos:\n",
        "            coste_solucion = 0\n",
        "            for i in solucion:\n",
        "                coste_solucion += i[0]\n",
        "#             print(\"Solucion completa:\",solucion,\"coste:\",coste_solucion)        \n",
        "            if coste_solucion < mejor[0]:\n",
        "                mejor = [coste_solucion,solucion]\n",
        "                print(\"Encontrada una mejor solución:\",solucion,\" (Coste:\",coste_solucion,\")\")\n",
        "    print(\"\\nLa mejor solución es:\")\n",
        "    for i in range(len(mejor[1])):\n",
        "        print(\"\\nEl día\",i+1,\"se rodarán estas escenas:\",mejor[1][i][1])\n",
        "        print(\"\\nEl coste del día\",i+1,\"es\",mejor[1][i][0])\n",
        "    print(\"\\n\\nEl coste total de la grabación será de\",mejor[0],\"salarios diarios.\")\n",
        "\n",
        "start = time.time()\n",
        "localizar(tomas_corta)\n",
        "end = time.time()\n",
        "\n",
        "print(\"El coste temporal de la ejecución ha sido:\",end-start,\"segundos.\")"
      ],
      "execution_count": 0,
      "outputs": [
        {
          "output_type": "stream",
          "text": [
            "Localizando entre 18 tomas...\n",
            "Ordenadas las 18564 mejores posibilidades. Buscando la combinación más económica.\n",
            "Encontrada una mejor solución: [[5, [1, 2, 6, 7, 9, 13]], [6, [3, 8, 14, 15, 17, 18]], [10, [4, 5, 10, 11, 12, 16]]]  (Coste: 21 )\n",
            "Encontrada una mejor solución: [[5, [1, 6, 7, 9, 13, 17]], [7, [2, 3, 4, 5, 11, 15]], [7, [8, 10, 12, 14, 16, 18]]]  (Coste: 19 )\n",
            "\n",
            "La mejor solución es:\n",
            "\n",
            "El día 1 se rodarán estas escenas: [1, 6, 7, 9, 13, 17]\n",
            "\n",
            "El coste del día 1 es 5\n",
            "\n",
            "El día 2 se rodarán estas escenas: [2, 3, 4, 5, 11, 15]\n",
            "\n",
            "El coste del día 2 es 7\n",
            "\n",
            "El día 3 se rodarán estas escenas: [8, 10, 12, 14, 16, 18]\n",
            "\n",
            "El coste del día 3 es 7\n",
            "\n",
            "\n",
            "El coste total de la grabación será de 19 salarios diarios.\n",
            "El coste temporal de la ejecución ha sido: 51.634912967681885 segundos.\n"
          ],
          "name": "stdout"
        }
      ]
    },
    {
      "cell_type": "markdown",
      "metadata": {
        "colab_type": "text",
        "id": "tgrnsC2nkFa8"
      },
      "source": [
        "Calcula la complejidad del algoritmo por fuerza bruta"
      ]
    },
    {
      "cell_type": "markdown",
      "metadata": {
        "colab_type": "text",
        "id": "9eUd3xwckP68"
      },
      "source": [
        "Respuesta"
      ]
    },
    {
      "cell_type": "code",
      "metadata": {
        "colab_type": "code",
        "id": "rvZWwL-ckRST",
        "colab": {}
      },
      "source": [
        "<b>Para la función de apoyo <i>combinar</i> tenemos $n*(n-1)*(n-2)*(n-3)*(n-4)*(n-5)$ + constantes, lo que arroja $n^6$<br>\n",
        "    La función <i>calcular_coste</i> tiene un coste lineal con la cantidad de actores, y por ser esta fija (10) es una constante.<br>\n",
        "    La función <i>localizar</i> tiene, descartando las constantes: $n^6$ de la llamada a <i>combinar</i> y luego:<br>\n",
        "    for n in range(len(posibles)) --> n<br>\n",
        "    for i in range(len(posibles)-(n+1)) --> n/2<br>\n",
        "    for j in usados:<br>\n",
        "                if j in posibles[i][1] --> 6*n/2 -> 3n<br>\n",
        "    Lo que nos da $n^6 + 9n/2$, que podemos resumir en $n^6$, es decir, orden polinómico.<br>\n",
        "    Nótese que los requisitos de espacio son altos en esta solución, al calcular y guardar todas las posibles combinaciones de tomas y su coste, pero nada que suponga una carga real para un equipo informático moderno, y por tanto no es necesario considerarla.\n",
        "    </b>"
      ],
      "execution_count": 0,
      "outputs": []
    },
    {
      "cell_type": "markdown",
      "metadata": {
        "colab_type": "text",
        "id": "txbrmLmskReM"
      },
      "source": [
        "(*)Diseña un algoritmo que mejore la complejidad del algortimo por fuerza bruta. Argumenta porque crees que mejora el algoritmo por fuerza bruta"
      ]
    },
    {
      "cell_type": "markdown",
      "metadata": {
        "colab_type": "text",
        "id": "hLrVwt5QkZPD"
      },
      "source": [
        "Respuesta"
      ]
    },
    {
      "cell_type": "code",
      "metadata": {
        "colab_type": "code",
        "id": "m1eyM21Vkabg",
        "colab": {}
      },
      "source": [
        "<b>Dado que el factor determinante de la complejidad del algoritmo por fuerza bruta es la generación de todas las posibles soluciones, debemos atacar ese punto para mejorar su complejidad.<br>Una posible solución sería ordenar las tomas por parecido, entendiendo este como el número de actores que coinciden, de modo que tengamos al final una lista de tomas donde cada toma y la siguiente tengan el mayor número posible de coincidencias. El coste mejoraría porque la forma de ordenarlo sería por resíduos, con un total de n (30) ciclos de ordenación, es decir, $O(n)$, y una posible solución después sería tan simple como dividir en grupos de 6 contando de uno en uno desde el principio.<br><br>\n",
        "    Importante notar que este algoritmo es sencillo de programar y extremadamente eficiente de ejecutar, pero no nos garantiza una solución óptima. Para encontrar la óptima tendríamos que buscar que en cada grupo de 6 (cada día de trabajo) haya la menor discordancia de actores posible. Podíamos lograr esto si repetimos la ordenación después de asignar cada grupo.<br>\n",
        "    Se incorpora a la función un parámetro para hacer el cálculo óptimo (como mejora).\n",
        "</b>"
      ],
      "execution_count": 0,
      "outputs": []
    },
    {
      "cell_type": "code",
      "metadata": {
        "id": "7I2lbBIWxmqz",
        "colab_type": "code",
        "colab": {},
        "outputId": "4fc4e126-0b55-41c5-cdc9-1f2771de6244"
      },
      "source": [
        "# Función de distancia entre elementos de la lista. \n",
        "# Calcula las coincidencias de actores (presencia o ausencia) entre dos tomas.\n",
        "def calcular_parecido(toma1, toma2):\n",
        "    parecido = 0\n",
        "    for i in range(len(toma1)):\n",
        "        if (toma1[i] == toma2[i]):\n",
        "            parecido += 1\n",
        "    return parecido\n",
        "\n",
        "# Devuelve la lista que recibe por parámetro, ordenada según la función de distancia definida.\n",
        "def ordenar(lista):\n",
        "    por_orden = []\n",
        "    for i in range(len(lista[0][1])): # Creo un vector para almacenar las tomas de cada orden de similitud\n",
        "        por_orden.append([])\n",
        "\n",
        "    for i in range(len(lista)):       # Calculo los parecidos y ubico cada elemento en su grupo\n",
        "        parecido = calcular_parecido(lista[0][1],lista[i][1])\n",
        "        por_orden[parecido-1].append(lista[i])\n",
        "        \n",
        "    ordenadas = []\n",
        "    for i in range(len(por_orden)-1,0,-1):  # Compongo el vector ordenado\n",
        "        for j in por_orden[i]: \n",
        "            ordenadas.append(j)\n",
        "    return ordenadas\n",
        "\n",
        "# Resuelve el caso concreto.\n",
        "# Acepta como parámetro si vamos a usar la versión inicial del algoritmo, por defecto es esta opción, \n",
        "# más imprecisa: optimo=0, o la óptima: optimo=1\n",
        "def resolver_radix(lista, optimo=0):\n",
        "    max_tomas_dia=6\n",
        "    ordenadas = ordenar(lista)\n",
        "\n",
        "    coste_total = 0\n",
        "    total_grupos = math.ceil(len(ordenadas)/6)\n",
        "    for i in range(total_grupos):\n",
        "        if optimo == 0: # Si simplemente busco una solución rápida y aproximada\n",
        "            grupo_tomas = ordenadas[max_tomas_dia*i:max_tomas_dia*(i+1)]\n",
        "        else:    # Si busco la solución óptima (y no menos rápida de hecho)\n",
        "            grupo_tomas = ordenadas[:max_tomas_dia]\n",
        "            if len(ordenadas)>max_tomas_dia: # Si todavía me quedan bastantes tomas que rodar, las reordeno\n",
        "                ordenadas = ordenar(ordenadas[max_tomas_dia:])\n",
        "            else:   # En caso de que el número de tomas no fuera múltiplo del máximo de tomas diarias\n",
        "                ordenadas = ordenadas[max_tomas_dia:]\n",
        "        tomas_hoy = []   # Preparo la salida del programa, indicando tomas y coste por día.\n",
        "        actores_hoy = []\n",
        "        for j in grupo_tomas:\n",
        "            tomas_hoy.append(j[0])\n",
        "            actores_hoy.append(j[1])\n",
        "        mi_coste = calcular_coste(actores_hoy)\n",
        "        coste_total += mi_coste\n",
        "        print(\"\\nEl día\",i+1,\"se rodarán estas escenas:\",tomas_hoy)\n",
        "        print(\"\\nEl coste del día\",i+1,\"es\",mi_coste)\n",
        "    print(\"\\n\\nEl coste total de la grabación será de\",coste_total,\"salarios diarios.\")\n",
        "\n",
        "###### Se genera solución óptima del conjunto corto para comparar. \n",
        "###### El coste final total es el mismo que por fuerza bruta, aunque el resultado (tomas cada día) no coincide.\n",
        "# print(\"La solución corta es:\")\n",
        "# start = time.time()\n",
        "# resolver_radix(tomas_corta,optimo=1)\n",
        "# end = time.time()  \n",
        "# print(\"El coste temporal de la ejecución ha sido:\",end-start,\"segundos.\")\n",
        "\n",
        "print(\"La solución completa es:\")\n",
        "start = time.time()\n",
        "resolver_radix(tomas,optimo=1)\n",
        "end = time.time()  \n",
        "print(\"El coste temporal de la ejecución ha sido:\",end-start,\"segundos.\")"
      ],
      "execution_count": 0,
      "outputs": [
        {
          "output_type": "stream",
          "text": [
            "La solución completa es:\n",
            "\n",
            "El día 1 se rodarán estas escenas: [1, 6, 7, 20, 22, 2]\n",
            "\n",
            "El coste del día 1 es 5\n",
            "\n",
            "El día 2 se rodarán estas escenas: [9, 25, 28, 30, 12, 13]\n",
            "\n",
            "El coste del día 2 es 7\n",
            "\n",
            "El día 3 se rodarán estas escenas: [5, 27, 4, 16, 21, 8]\n",
            "\n",
            "El coste del día 3 es 8\n",
            "\n",
            "El día 4 se rodarán estas escenas: [15, 3, 17, 19, 23, 10]\n",
            "\n",
            "El coste del día 4 es 7\n",
            "\n",
            "El día 5 se rodarán estas escenas: [11, 26, 14, 29, 18, 24]\n",
            "\n",
            "El coste del día 5 es 7\n",
            "\n",
            "\n",
            "El coste total de la grabación será de 34 salarios diarios.\n",
            "El coste temporal de la ejecución ha sido: 0.0009639263153076172 segundos.\n"
          ],
          "name": "stdout"
        }
      ]
    },
    {
      "cell_type": "markdown",
      "metadata": {
        "colab_type": "text",
        "id": "eGDB4K6uk1iN"
      },
      "source": [
        "(*)Calcula la complejidad del algoritmo "
      ]
    },
    {
      "cell_type": "markdown",
      "metadata": {
        "colab_type": "text",
        "id": "NhpTh_BPk1ms"
      },
      "source": [
        "Respuesta"
      ]
    },
    {
      "cell_type": "code",
      "metadata": {
        "colab_type": "code",
        "id": "nREzhkStlCq8",
        "colab": {}
      },
      "source": [
        "<b>La función <i>calcular_parecido</i> tiene un coste proporcional (2x+1) al número de actores, es decir, constante.<br>\n",
        "    La función <i>ordenar</i> suma estos costes:\n",
        "    - crear el vector de resultados <i>por_orden</i>: 2 veces el número de actores +1, es decir, constante, $O(1)$.<br>\n",
        "    - una ejecución de calcular_parecido y una asignación por cada elemento de la lista: $O(n)$<br>\n",
        "    - y finalmente recorre el vector de grupos, que tiene n elementos: $O(n)$<br><br>\n",
        "    \n",
        "La función <i>resolver_radix</i>, despreciando los de orden constante, tiene estos costes:<br>\n",
        "    - Una llamada a ordenar, que como hemos visto tiene orden lineal: $O(n)$<br>\n",
        "    - Para cada grupo (día), y sólo si buscamos la solución óptima, otra llamada a ordenar: $O(n)$<br>\n",
        "    - Para cada toma de cada grupo, dos asignaciones, sólo para presentar el resultado: $O(n)$<br>\n",
        "    - Una llamada a calcular_coste, que como vimos antes es lineal con los actores, y por tanto constante.<br><br>\n",
        "  \n",
        "En resumen, se usan funciones de coste constante o lineal, y por tanto el algoritmo en sí tiene un coste lineal: $O(n)$<br>\n",
        "\n",
        "Cabría añadir que en caso de un número enorme de actores (¿todos los extras como reparto?) podría influir en el resultado, pues aunque su efecto es constante, el del algoritmo en total es lineal al número de escenas (es decir, a mismo número de escenas, si se incremente MUCHO el número de actores, se podrá llegar a notar en el rendimiento).\n",
        "    \n",
        "  \n",
        "</b>"
      ],
      "execution_count": 0,
      "outputs": []
    },
    {
      "cell_type": "markdown",
      "metadata": {
        "colab_type": "text",
        "id": "3M6QjTsSkmYe"
      },
      "source": [
        "Según el problema (y tenga sentido), diseña un juego de datos de entrada aleatorios"
      ]
    },
    {
      "cell_type": "markdown",
      "metadata": {
        "colab_type": "text",
        "id": "Jc3_OlyNkvjZ"
      },
      "source": [
        "Respuesta"
      ]
    },
    {
      "cell_type": "code",
      "metadata": {
        "colab_type": "code",
        "id": "sJ-N2etjkyWc",
        "colab": {}
      },
      "source": [
        "<b>El juego de datos de entrada es simple: número de actores y número de tomas.<br>\n",
        "Crearé unas funciones acotadas para generar la tabla de tomas de forma aleatoria.</b>"
      ],
      "execution_count": 0,
      "outputs": []
    },
    {
      "cell_type": "code",
      "metadata": {
        "id": "urCwWU9dxmrH",
        "colab_type": "code",
        "colab": {}
      },
      "source": [
        "import random\n",
        "\n",
        "num_actores = 10  # Valores por defecto del problema\n",
        "\n",
        "\n",
        "def actores_aleatorios(cota_inf, cota_sup):\n",
        "    return random.randint(cota_inf, cota_sup)\n",
        "\n",
        "def tomas_aleatorias(cota_inf, cota_sup):\n",
        "    tomas = []\n",
        "    for i in range(random.randint(cota_inf, cota_sup)):\n",
        "        actores_toma = []\n",
        "        for j in range(num_actores):\n",
        "            actores_toma.append(random.choice([0, 1]))\n",
        "        tomas.append([i+1,actores_toma])\n",
        "    return tomas    "
      ],
      "execution_count": 0,
      "outputs": []
    },
    {
      "cell_type": "markdown",
      "metadata": {
        "colab_type": "text",
        "id": "zy5ZROmjlGo1"
      },
      "source": [
        "Aplica el algoritmo al juego de datos generado"
      ]
    },
    {
      "cell_type": "markdown",
      "metadata": {
        "colab_type": "text",
        "id": "_Cmj-PVylMsa"
      },
      "source": [
        "Respuesta"
      ]
    },
    {
      "cell_type": "code",
      "metadata": {
        "colab_type": "code",
        "id": "Jkx8GeiYlUz1",
        "colab": {},
        "outputId": "20debbb1-52d6-46f3-9580-7fc81d832893"
      },
      "source": [
        "num_actores = actores_aleatorios(10,20)      \n",
        "tomas = tomas_aleatorias(30,100)\n",
        "\n",
        "print(\"Resolviendo el problema para\",num_actores,\"actores y\",len(tomas),\"tomas a doblar.\")\n",
        "start = time.time()\n",
        "resolver_radix(tomas,optimo=1)\n",
        "end = time.time()  \n",
        "print(\"El coste temporal de la ejecución ha sido:\",end-start,\"segundos.\")"
      ],
      "execution_count": 0,
      "outputs": [
        {
          "output_type": "stream",
          "text": [
            "Resolviendo el problema para 19 actores y 95 tomas a doblar.\n",
            "\n",
            "El día 1 se rodarán estas escenas: [1, 30, 53, 61, 63, 64]\n",
            "\n",
            "El coste del día 1 es 18\n",
            "\n",
            "El día 2 se rodarán estas escenas: [95, 66, 75, 48, 49, 55]\n",
            "\n",
            "El coste del día 2 es 15\n",
            "\n",
            "El día 3 se rodarán estas escenas: [52, 31, 35, 80, 86, 16]\n",
            "\n",
            "El coste del día 3 es 17\n",
            "\n",
            "El día 4 se rodarán estas escenas: [9, 29, 23, 54, 25, 3]\n",
            "\n",
            "El coste del día 4 es 16\n",
            "\n",
            "El día 5 se rodarán estas escenas: [24, 12, 90, 32, 11, 84]\n",
            "\n",
            "El coste del día 5 es 19\n",
            "\n",
            "El día 6 se rodarán estas escenas: [34, 26, 87, 62, 5, 4]\n",
            "\n",
            "El coste del día 6 es 17\n",
            "\n",
            "El día 7 se rodarán estas escenas: [10, 57, 17, 46, 85, 79]\n",
            "\n",
            "El coste del día 7 es 18\n",
            "\n",
            "El día 8 se rodarán estas escenas: [56, 40, 65, 37, 73, 42]\n",
            "\n",
            "El coste del día 8 es 19\n",
            "\n",
            "El día 9 se rodarán estas escenas: [28, 76, 92, 91, 59, 19]\n",
            "\n",
            "El coste del día 9 es 18\n",
            "\n",
            "El día 10 se rodarán estas escenas: [6, 82, 38, 15, 83, 44]\n",
            "\n",
            "El coste del día 10 es 17\n",
            "\n",
            "El día 11 se rodarán estas escenas: [58, 13, 93, 67, 7, 88]\n",
            "\n",
            "El coste del día 11 es 17\n",
            "\n",
            "El día 12 se rodarán estas escenas: [50, 70, 71, 41, 77, 68]\n",
            "\n",
            "El coste del día 12 es 18\n",
            "\n",
            "El día 13 se rodarán estas escenas: [43, 21, 60, 20, 69, 45]\n",
            "\n",
            "El coste del día 13 es 19\n",
            "\n",
            "El día 14 se rodarán estas escenas: [2, 18, 39, 8, 89, 81]\n",
            "\n",
            "El coste del día 14 es 19\n",
            "\n",
            "El día 15 se rodarán estas escenas: [78, 74, 94, 22, 72, 14]\n",
            "\n",
            "El coste del día 15 es 19\n",
            "\n",
            "El día 16 se rodarán estas escenas: [27, 36, 51, 47, 33]\n",
            "\n",
            "El coste del día 16 es 16\n",
            "\n",
            "\n",
            "El coste total de la grabación será de 282 salarios diarios.\n",
            "El coste temporal de la ejecución ha sido: 0.005983591079711914 segundos.\n"
          ],
          "name": "stdout"
        }
      ]
    },
    {
      "cell_type": "markdown",
      "metadata": {
        "colab_type": "text",
        "id": "eTFWUJQrtGcv"
      },
      "source": [
        "Enumera las referencias que has utilizado(si ha sido necesario) para llevar a cabo el trabajo"
      ]
    },
    {
      "cell_type": "markdown",
      "metadata": {
        "colab_type": "text",
        "id": "YKQ_mRBttWsP"
      },
      "source": [
        "Respuesta"
      ]
    },
    {
      "cell_type": "markdown",
      "metadata": {
        "id": "yYgWX-GMxmrY",
        "colab_type": "text"
      },
      "source": [
        "<b>Tan sólo se ha recurrido al manual de la asignatura, un foro técnico ( https://stackoverflow.com/ ) y a la documentación de Python ( https://docs.python.org )<b>"
      ]
    },
    {
      "cell_type": "markdown",
      "metadata": {
        "colab_type": "text",
        "id": "kAkDPUyRtYyH"
      },
      "source": [
        "Describe brevemente las lineas de como crees que es posible avanzar en el estudio del problema. Ten en cuenta incluso posibles variaciones del problema y/o variaciones al alza del tamaño"
      ]
    },
    {
      "cell_type": "markdown",
      "metadata": {
        "colab_type": "text",
        "id": "IE0uZmo-tZu-"
      },
      "source": [
        "Respuesta"
      ]
    },
    {
      "cell_type": "markdown",
      "metadata": {
        "id": "OYHtUKMfxmrb",
        "colab_type": "text"
      },
      "source": [
        "<b>El problema ha quedado resuelto satisfactoriamente, con un algoritmo que encuentra muy rápido la solución óptima.<br>\n",
        "Se podría mejorar introduciendo como parámetro, además de la opción de encontrar el resultado óptimo (que a pesar de su \n",
        "nula utilidad, he mantenido para mostrar la evolución del trabajo sobre el problema), el límite de tomas por día.<br>\n",
        "En cuanto a un aumento de tamaño, se ha probado con valores de hasta 200 actores y 1000 tomas, tardando 1.165 segundos en obtener la solución (que cuesta 32.279 salarios, ¡tiembla Holliwood!), por lo que parece que en un caso mínimamente realista el tamaño no debería ser un problema.</b>"
      ]
    }
  ]
}